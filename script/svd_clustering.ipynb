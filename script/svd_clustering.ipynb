{
 "cells": [
  {
   "cell_type": "code",
   "execution_count": 1,
   "metadata": {
    "collapsed": true
   },
   "outputs": [],
   "source": [
    "import sys\n",
    "sys.path.append('..')\n",
    "\n",
    "from bag_of_words import *\n",
    "from topic_model_svd import *\n",
    "from sklearn.feature_extraction.text import CountVectorizer\n",
    "from sklearn.feature_extraction.text import TfidfTransformer\n",
    "from sklearn.feature_extraction.stop_words import ENGLISH_STOP_WORDS\n",
    "from scipy.sparse.linalg import svds\n",
    "from sklearn.cluster import KMeans\n",
    "import numpy as np"
   ]
  },
  {
   "cell_type": "code",
   "execution_count": 2,
   "metadata": {
    "collapsed": true
   },
   "outputs": [],
   "source": [
    "topic_num = 20\n",
    "df = get_data(path='../data/iphone6.csv')"
   ]
  },
  {
   "cell_type": "code",
   "execution_count": 3,
   "metadata": {
    "collapsed": true
   },
   "outputs": [],
   "source": [
    "f = open('stop_words.txt', 'r')\n",
    "mystop = f.readlines()[0].split()\n",
    "f.close()\n",
    "mystop.extend( list(ENGLISH_STOP_WORDS) )\n",
    "\n",
    "vectorizer = CountVectorizer(max_df=1.0,\n",
    "                             max_features=200000,\n",
    "                             min_df=1,\n",
    "                             stop_words = mystop,\n",
    "                             ngram_range=(1,1))\n"
   ]
  },
  {
   "cell_type": "code",
   "execution_count": 4,
   "metadata": {
    "collapsed": true
   },
   "outputs": [],
   "source": [
    "bw_matrix = vectorizer.fit_transform(df.Reviews_bw)\n",
    "bw_matrix = TfidfTransformer(norm='l2', use_idf=False).fit_transform(bw_matrix)\n",
    "vocab = vectorizer.get_feature_names()"
   ]
  },
  {
   "cell_type": "code",
   "execution_count": 5,
   "metadata": {
    "collapsed": true
   },
   "outputs": [],
   "source": [
    "t, s, d = svds(bw_matrix, k=50)"
   ]
  },
  {
   "cell_type": "code",
   "execution_count": 6,
   "metadata": {
    "collapsed": true
   },
   "outputs": [],
   "source": [
    "km = KMeans(n_clusters=topic_num)\n",
    "km.fit(t)\n",
    "topics = km.labels_.tolist()\n",
    "df['topic'] = topics"
   ]
  },
  {
   "cell_type": "code",
   "execution_count": 7,
   "metadata": {},
   "outputs": [
    {
     "name": "stdout",
     "output_type": "stream",
     "text": [
      "topics\n",
      "0     3.848055\n",
      "1     4.324675\n",
      "2     4.750000\n",
      "3     4.090000\n",
      "4     4.686275\n",
      "5     3.212851\n",
      "6     3.403509\n",
      "7     1.972678\n",
      "8     2.440476\n",
      "9     4.279412\n",
      "10    4.479452\n",
      "11    3.666667\n",
      "12    3.850877\n",
      "13    4.590909\n",
      "14    3.533333\n",
      "15    1.871681\n",
      "16    4.515337\n",
      "17    3.353488\n",
      "18    2.122302\n",
      "19    2.914027\n",
      "Name: Rating, dtype: float64\n"
     ]
    }
   ],
   "source": [
    "grouped = df['Rating'].groupby(df['topic'])\n",
    "print grouped.mean()"
   ]
  },
  {
   "cell_type": "code",
   "execution_count": 8,
   "metadata": {},
   "outputs": [
    {
     "name": "stdout",
     "output_type": "stream",
     "text": [
      "Top terms per cluster:\n",
      "\n",
      "Cluster 0 words:\n",
      "34\n",
      "[u'apple', u'price', u'refurbished']\n",
      "44\n",
      "[u'battery']\n",
      "\n",
      "Cluster 1 words:\n",
      "17\n",
      "[u'delivery', u'money', u'shipping']\n",
      "21\n",
      "[u'quality', u'service']\n",
      "\n",
      "Cluster 2 words:\n",
      "13\n",
      "[u'gb', u'gift']\n",
      "12\n",
      "[u'gb', u'gift', u'scratch']\n",
      "\n",
      "Cluster 3 words:\n",
      "41\n",
      "[u'problems', u'time']\n",
      "42\n",
      "[u'problems', u'screen', u'time']\n",
      "\n",
      "Cluster 4 words:\n",
      "36\n",
      "[u'fast', u'price', u'shipping']\n",
      "39\n",
      "[u'price', u'seller', u'unlocked']\n",
      "\n",
      "Cluster 5 words:\n",
      "28\n",
      "[u'charge', u'issues']\n",
      "44\n",
      "[u'battery']\n",
      "\n",
      "Cluster 6 words:\n",
      "23\n",
      "[u'box']\n",
      "8\n",
      "[u'device', u'headphones', u'month']\n",
      "\n",
      "Cluster 7 words:\n",
      "17\n",
      "[u'delivery', u'money', u'shipping']\n",
      "18\n",
      "[u'delivery', u'money', u'shipping']\n",
      "\n",
      "Cluster 8 words:\n",
      "5\n",
      "[u'camera', u'sound']\n",
      "4\n",
      "[u'ordered', u'promised']\n",
      "\n",
      "Cluster 9 words:\n",
      "46\n",
      "[u'iphone', u'new']\n",
      "35\n",
      "[u'apple', u'scratches', u'seller']\n",
      "\n",
      "Cluster 10 words:\n",
      "19\n",
      "[u'day', u'return', u'son']\n",
      "13\n",
      "[u'gb', u'gift']\n",
      "\n",
      "Cluster 11 words:\n",
      "13\n",
      "[u'gb', u'gift']\n",
      "14\n",
      "[u'amazon', u'days', u'scratch']\n",
      "\n",
      "Cluster 12 words:\n",
      "9\n",
      "[u'device', u'headphones', u'month']\n",
      "6\n",
      "[u'headphones', u'returned']\n",
      "\n",
      "Cluster 13 words:\n",
      "45\n",
      "[u'condition']\n",
      "40\n",
      "[u'charger']\n",
      "\n",
      "Cluster 14 words:\n",
      "10\n",
      "[u'right']\n",
      "23\n",
      "[u'box']\n",
      "\n",
      "Cluster 15 words:\n",
      "44\n",
      "[u'battery']\n",
      "29\n",
      "[u'camera', u'problem', u'sound']\n",
      "\n",
      "Cluster 16 words:\n",
      "34\n",
      "[u'apple', u'price', u'refurbished']\n",
      "39\n",
      "[u'price', u'seller', u'unlocked']\n",
      "\n",
      "Cluster 17 words:\n",
      "31\n",
      "[u'card', u'sim', u'unlocked']\n",
      "30\n",
      "[u'issues', u'months']\n",
      "\n",
      "Cluster 18 words:\n",
      "40\n",
      "[u'charger']\n",
      "41\n",
      "[u'problems', u'time']\n",
      "\n",
      "Cluster 19 words:\n",
      "39\n",
      "[u'price', u'seller', u'unlocked']\n",
      "38\n",
      "[u'fast', u'price', u'unlocked']\n"
     ]
    }
   ],
   "source": [
    "print \"Top terms per cluster:\"\n",
    "#sort cluster centers by proximity to centroid\n",
    "order_centroids = km.cluster_centers_.argsort()[:, ::-1]\n",
    "review_group = df['Reviews'].groupby(df['topic'])\n",
    "\n",
    "for i in range(topic_num):\n",
    "    print \"\\nCluster %d words:\" % i\n",
    "    for ind in order_centroids[i, :2]: #replace 5 with n words per cluster\n",
    "        print ind\n",
    "        base = get_new_base(d[ind], vocab, cutoff=0.3)\n",
    "        print [item[1] for item in base]"
   ]
  },
  {
   "cell_type": "code",
   "execution_count": 13,
   "metadata": {},
   "outputs": [
    {
     "data": {
      "text/plain": [
       "array([  1.69945909e-04,  -5.93240090e-04,  -3.99738359e-04,\n",
       "        -8.95285354e-05,  -3.99145409e-04,  -7.40520222e-04,\n",
       "         4.78044051e-04,   1.02598884e-03,  -8.80437724e-04,\n",
       "        -5.01014912e-04,  -1.09262103e-03,   5.07685840e-04,\n",
       "         5.94397964e-04,  -1.00587012e-03,   4.01072075e-04,\n",
       "         9.03458147e-04,  -1.63337658e-04,  -3.26205630e-04,\n",
       "        -1.87449276e-04,  -9.57664975e-04,   2.66633980e-04,\n",
       "        -5.34081766e-04,  -7.97285115e-05,  -2.46913469e-05,\n",
       "        -7.59944483e-04,   3.61855191e-03,  -3.88150944e-04,\n",
       "        -9.24614831e-04,   5.85867612e-04,   1.55562089e-04,\n",
       "         2.60206511e-03,  -1.46019128e-03,   3.04842914e-03,\n",
       "        -1.01541611e-04,  -1.33805188e-03,  -1.62883003e-04,\n",
       "        -7.15323544e-04,   2.48970704e-03,  -7.86977235e-04,\n",
       "        -4.22414904e-03,   4.42944844e-03,   5.31612029e-02,\n",
       "         1.98514255e-02,  -1.33135583e-02,   2.74797042e-03,\n",
       "         1.80362365e-03,  -1.08003406e-03,   1.00339802e-03,\n",
       "        -4.82729044e-03,  -7.42393888e-03])"
      ]
     },
     "execution_count": 13,
     "metadata": {},
     "output_type": "execute_result"
    }
   ],
   "source": []
  },
  {
   "cell_type": "code",
   "execution_count": 14,
   "metadata": {},
   "outputs": [
    {
     "data": {
      "text/plain": [
       "array([ -3.37484693e-03,  -1.50527349e-03,   2.29907887e-03,\n",
       "        -5.44669507e-03,  -6.31039142e-03,   5.39822108e-03,\n",
       "         2.13027027e-03,   1.61112399e-03,   7.56479888e-04,\n",
       "         1.52490489e-03,  -2.51088835e-03,  -1.08319868e-02,\n",
       "         1.33103998e-02,   2.20639359e-02,   6.51843033e-03,\n",
       "         8.26955615e-03,   3.47539382e-03,  -2.43682074e-03,\n",
       "        -1.28661606e-03,  -2.50885802e-03,   1.27146268e-02,\n",
       "        -6.43036917e-04,   5.77540541e-03,  -4.83990164e-03,\n",
       "        -6.97631823e-04,  -1.52697268e-01,  -4.16409317e-03,\n",
       "        -1.18200172e-02,   8.22938398e-04,   3.50022820e-03,\n",
       "        -9.09768414e-03,   7.29260867e-03,  -1.77993627e-03,\n",
       "        -1.45248825e-03,   1.74994514e-03,  -1.65307451e-03,\n",
       "         2.05514834e-03,  -2.99227227e-03,  -1.27114507e-03,\n",
       "         1.51172578e-03,  -1.51273062e-04,   3.61372967e-03,\n",
       "         1.55987241e-03,  -1.38119161e-03,  -1.55617362e-04,\n",
       "        -1.00708960e-04,  -1.67071773e-04,   2.08655832e-04,\n",
       "        -3.77481438e-04,  -3.74739619e-04])"
      ]
     },
     "execution_count": 14,
     "metadata": {},
     "output_type": "execute_result"
    }
   ],
   "source": []
  },
  {
   "cell_type": "code",
   "execution_count": null,
   "metadata": {
    "collapsed": true
   },
   "outputs": [],
   "source": []
  }
 ],
 "metadata": {
  "kernelspec": {
   "display_name": "Python 2",
   "language": "python",
   "name": "python2"
  },
  "language_info": {
   "codemirror_mode": {
    "name": "ipython",
    "version": 2
   },
   "file_extension": ".py",
   "mimetype": "text/x-python",
   "name": "python",
   "nbconvert_exporter": "python",
   "pygments_lexer": "ipython2",
   "version": "2.7.13"
  }
 },
 "nbformat": 4,
 "nbformat_minor": 2
}

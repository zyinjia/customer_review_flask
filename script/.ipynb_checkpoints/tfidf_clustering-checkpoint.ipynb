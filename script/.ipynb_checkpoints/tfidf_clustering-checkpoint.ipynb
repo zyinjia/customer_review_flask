{
 "cells": [
  {
   "cell_type": "code",
   "execution_count": 1,
   "metadata": {
    "collapsed": true
   },
   "outputs": [],
   "source": [
    "import sys\n",
    "sys.path.append('..')\n",
    "\n",
    "from bag_of_words import *\n",
    "from sklearn.feature_extraction.text import TfidfVectorizer\n",
    "from sklearn.cluster import KMeans\n",
    "from sklearn.metrics.pairwise import cosine_similarity\n",
    "from sklearn.manifold import MDS"
   ]
  },
  {
   "cell_type": "code",
   "execution_count": 2,
   "metadata": {
    "collapsed": true
   },
   "outputs": [],
   "source": [
    "topic_num = 20\n",
    "df = get_data(path='../data/iphone6.csv')"
   ]
  },
  {
   "cell_type": "code",
   "execution_count": 3,
   "metadata": {
    "collapsed": true
   },
   "outputs": [],
   "source": [
    "tfidf_vectorizer = TfidfVectorizer(max_df=0.8,\n",
    "                                   max_features=200000,\n",
    "                                   min_df=1,\n",
    "                                   use_idf=True,\n",
    "                                   ngram_range=(1,1),\n",
    "                                   stop_words = 'english',\n",
    "                                   norm='l2')\n",
    "tfidf_matrix = tfidf_vectorizer.fit_transform(df.Reviews_bw)\n",
    "vocab = tfidf_vectorizer.get_feature_names()"
   ]
  },
  {
   "cell_type": "code",
   "execution_count": 4,
   "metadata": {},
   "outputs": [
    {
     "data": {
      "text/plain": [
       "KMeans(algorithm='auto', copy_x=True, init='k-means++', max_iter=300,\n",
       "    n_clusters=20, n_init=10, n_jobs=1, precompute_distances='auto',\n",
       "    random_state=None, tol=0.0001, verbose=0)"
      ]
     },
     "execution_count": 4,
     "metadata": {},
     "output_type": "execute_result"
    }
   ],
   "source": [
    "km = KMeans(n_clusters=topic_num)\n",
    "km.fit(tfidf_matrix)"
   ]
  },
  {
   "cell_type": "code",
   "execution_count": 5,
   "metadata": {},
   "outputs": [
    {
     "name": "stdout",
     "output_type": "stream",
     "text": [
      "17    2632\n",
      "2     1974\n",
      "19     485\n",
      "18     463\n",
      "13     450\n",
      "0      444\n",
      "4      384\n",
      "12     363\n",
      "9      323\n",
      "5      315\n",
      "6      307\n",
      "15     228\n",
      "3      228\n",
      "7      213\n",
      "16     188\n",
      "1      176\n",
      "10     148\n",
      "14     133\n",
      "8      111\n",
      "11      91\n",
      "Name: topics, dtype: int64\n"
     ]
    }
   ],
   "source": [
    "topics = km.labels_.tolist()\n",
    "df['topics'] = topics\n",
    "print df['topics'].value_counts()"
   ]
  },
  {
   "cell_type": "code",
   "execution_count": 6,
   "metadata": {},
   "outputs": [
    {
     "name": "stdout",
     "output_type": "stream",
     "text": [
      "topics\n",
      "0     4.108108\n",
      "1     4.829545\n",
      "2     2.949341\n",
      "3     3.280702\n",
      "4     4.666667\n",
      "5     4.879365\n",
      "6     4.345277\n",
      "7     4.957746\n",
      "8     4.477477\n",
      "9     2.857585\n",
      "10    4.844595\n",
      "11    4.901099\n",
      "12    1.997245\n",
      "13    4.771111\n",
      "14    4.699248\n",
      "15    4.960526\n",
      "16    4.936170\n",
      "17    3.542933\n",
      "18    2.105832\n",
      "19    4.703093\n",
      "Name: Rating, dtype: float64\n"
     ]
    }
   ],
   "source": [
    "grouped = df['Rating'].groupby(df['topics'])\n",
    "print grouped.mean()"
   ]
  },
  {
   "cell_type": "code",
   "execution_count": 7,
   "metadata": {},
   "outputs": [
    {
     "name": "stdout",
     "output_type": "stream",
     "text": [
      "Top terms per cluster:\n",
      "\n",
      "Cluster 0 words:\n",
      "came phone condition charger new \n",
      "Cluster 1 words:\n",
      "described exactly phone product item \n",
      "Cluster 2 words:\n",
      "phone great new screen got \n",
      "Cluster 3 words:\n",
      "sim card phone unlocked work \n",
      "Cluster 4 words:\n",
      "good far phone condition really \n",
      "Cluster 5 words:\n",
      "great phone works price condition \n",
      "Cluster 6 words:\n",
      "product great good excelent excellent \n",
      "Cluster 7 words:\n",
      "love phone iphone new great \n",
      "Cluster 8 words:\n",
      "ok good phone product perfect \n",
      "Cluster 9 words:\n",
      "working stopped phone good months \n",
      "Cluster 10 words:\n",
      "thanks awesome phone great good \n",
      "Cluster 11 words:\n",
      "excelente producto recomendable product recomendado \n",
      "Cluster 12 words:\n",
      "work phone screen charger properly \n",
      "Cluster 13 words:\n",
      "works great perfectly phone fine \n",
      "Cluster 14 words:\n",
      "nice phone love good works \n",
      "Cluster 15 words:\n",
      "excellent product condition recommended phone \n",
      "Cluster 16 words:\n",
      "perfect condition works phone new \n",
      "Cluster 17 words:\n",
      "iphone excelent good expected great \n",
      "Cluster 18 words:\n",
      "battery phone charge life hours \n",
      "Cluster 19 words:\n",
      "like new brand looks phone\n"
     ]
    }
   ],
   "source": [
    "print \"Top terms per cluster:\"\n",
    "#sort cluster centers by proximity to centroid\n",
    "order_centroids = km.cluster_centers_.argsort()[:, ::-1]\n",
    "review_group = df['Reviews'].groupby(df['topics'])\n",
    "\n",
    "for i in range(topic_num):\n",
    "    print \"\\nCluster %d words:\" % i\n",
    "    for ind in order_centroids[i, :5]: #replace 5 with n words per cluster\n",
    "        print vocab[ind],"
   ]
  },
  {
   "cell_type": "code",
   "execution_count": null,
   "metadata": {},
   "outputs": [],
   "source": [
    "dist = 1 - cosine_similarity(tfidf_matrix)\n",
    "MDS()\n",
    "mds = MDS(n_components=2, dissimilarity=\"precomputed\", random_state=1)\n",
    "pos = mds.fit_transform(dist)\n",
    "xs, ys = pos[:, 0], pos[:, 1]"
   ]
  },
  {
   "cell_type": "code",
   "execution_count": null,
   "metadata": {
    "collapsed": true
   },
   "outputs": [],
   "source": [
    "%matplotlib inline \n",
    "\n",
    "#create data frame that has the result of the MDS plus the cluster numbers and titles\n",
    "dfplot = pd.DataFrame(dict(x=xs, y=ys, label=topics, review=df[\"Reviews\"])) \n",
    "\n",
    "#group by cluster\n",
    "groups = dfplot.groupby('label')\n",
    "\n",
    "\n",
    "# set up plot\n",
    "fig, ax = plt.subplots(figsize=(17, 9)) # set size\n",
    "ax.margins(0.05) # Optional, just adds 5% padding to the autoscaling\n",
    "\n",
    "#iterate through groups to layer the plot\n",
    "#note that I use the cluster_name and cluster_color dicts with the 'name' lookup to return the appropriate color/label\n",
    "for name, group in groups:\n",
    "    ax.plot(group.x, group.y, marker='o', linestyle='', ms=12, \n",
    "            label=cluster_names[name], color=cluster_colors[name], \n",
    "            mec='none')\n",
    "    ax.set_aspect('auto')\n",
    "    ax.tick_params(\\\n",
    "        axis= 'x',          # changes apply to the x-axis\n",
    "        which='both',      # both major and minor ticks are affected\n",
    "        bottom='off',      # ticks along the bottom edge are off\n",
    "        top='off',         # ticks along the top edge are off\n",
    "        labelbottom='off')\n",
    "    ax.tick_params(\\\n",
    "        axis= 'y',         # changes apply to the y-axis\n",
    "        which='both',      # both major and minor ticks are affected\n",
    "        left='off',      # ticks along the bottom edge are off\n",
    "        top='off',         # ticks along the top edge are off\n",
    "        labelleft='off')\n",
    "    \n",
    "ax.legend(numpoints=1)  #show legend with only 1 point\n",
    "\n",
    "#add label in x,y position with the label as the film title\n",
    "for i in range(len(df)):\n",
    "    ax.text(df.ix[i]['x'], df.ix[i]['y'], df.ix[i]['title'], size=8)  \n",
    "\n",
    "    \n",
    "plt.show() #show the plot\n"
   ]
  }
 ],
 "metadata": {
  "kernelspec": {
   "display_name": "Python 2",
   "language": "python",
   "name": "python2"
  },
  "language_info": {
   "codemirror_mode": {
    "name": "ipython",
    "version": 2
   },
   "file_extension": ".py",
   "mimetype": "text/x-python",
   "name": "python",
   "nbconvert_exporter": "python",
   "pygments_lexer": "ipython2",
   "version": "2.7.13"
  }
 },
 "nbformat": 4,
 "nbformat_minor": 2
}
